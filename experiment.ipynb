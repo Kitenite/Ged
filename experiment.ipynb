{
 "cells": [
  {
   "cell_type": "code",
   "execution_count": 5,
   "metadata": {},
   "outputs": [
    {
     "data": {
      "text/plain": [
       "True"
      ]
     },
     "execution_count": 5,
     "metadata": {},
     "output_type": "execute_result"
    }
   ],
   "source": [
    "# !pip install replicate\n",
    "from dotenv import load_dotenv\n",
    "load_dotenv()"
   ]
  },
  {
   "cell_type": "code",
   "execution_count": 8,
   "metadata": {},
   "outputs": [
    {
     "name": "stdout",
     "output_type": "stream",
     "text": [
      "{'img_out': 'https://replicate.delivery/pbxt/jDScvTTreyQgHiyEN1qbkNTCfzDmXGEya9xuBqh4XBK1o4PRA/seg_out.png', 'json_out': 'https://replicate.delivery/pbxt/7I5mRlz5XlLPPhxQL1cAT6K7T1zxIpYF27yrqYqoZtVNKenIA/seg_out.json'}\n"
     ]
    }
   ],
   "source": [
    "import replicate\n",
    "output = replicate.run(\n",
    "    \"cjwbw/semantic-segment-anything:b2691db53f2d96add0051a4a98e7a3861bd21bf5972031119d344d956d2f8256\",\n",
    "    input={\"image\": open(\"./screenshot.png\", \"rb\")}\n",
    ")\n",
    "print(output)"
   ]
  }
 ],
 "metadata": {
  "kernelspec": {
   "display_name": "venv",
   "language": "python",
   "name": "python3"
  },
  "language_info": {
   "codemirror_mode": {
    "name": "ipython",
    "version": 3
   },
   "file_extension": ".py",
   "mimetype": "text/x-python",
   "name": "python",
   "nbconvert_exporter": "python",
   "pygments_lexer": "ipython3",
   "version": "3.10.10"
  },
  "orig_nbformat": 4
 },
 "nbformat": 4,
 "nbformat_minor": 2
}
