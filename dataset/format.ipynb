{
 "cells": [
  {
   "cell_type": "code",
   "execution_count": null,
   "metadata": {},
   "outputs": [],
   "source": [
    "import firebase_admin\n",
    "from firebase_admin import credentials\n",
    "from firebase_admin import storage\n",
    "\n",
    "cred = credentials.Certificate('path_to_your_service_account_key.json')\n",
    "firebase_admin.initialize_app(cred)\n",
    "\n",
    "# Reference to your Storage\n",
    "bucket = storage.bucket()\n",
    "\n",
    "# Reference to the blob (file) you want to read\n",
    "blob = bucket.blob('path_to_your_file_in_storage')\n",
    "\n",
    "# Download the file to a local destination\n",
    "blob.download_to_filename('local_destination_filename.ext')\n",
    "\n",
    "file_content = blob.download_as_text()\n",
    "print(file_content)\n"
   ]
  }
 ],
 "metadata": {
  "language_info": {
   "name": "python"
  },
  "orig_nbformat": 4
 },
 "nbformat": 4,
 "nbformat_minor": 2
}
